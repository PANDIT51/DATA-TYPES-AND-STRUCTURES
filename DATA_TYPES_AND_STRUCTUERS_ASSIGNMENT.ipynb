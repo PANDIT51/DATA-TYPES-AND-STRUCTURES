{
  "nbformat": 4,
  "nbformat_minor": 0,
  "metadata": {
    "colab": {
      "provenance": []
    },
    "kernelspec": {
      "name": "python3",
      "display_name": "Python 3"
    },
    "language_info": {
      "name": "python"
    }
  },
  "cells": [
    {
      "cell_type": "code",
      "execution_count": null,
      "metadata": {
        "id": "lCdk-ZdtmFoa"
      },
      "outputs": [],
      "source": []
    },
    {
      "cell_type": "markdown",
      "source": [
        "1. What are data structures, and why are they important?\n",
        "  > Data structures are tools for organizing and storing data efficiently, enabling quick access, modification, and scalability. They are important for optimizing memory usage, enhancing algorithm performance, and handling large datasets.\n",
        "\n",
        "2. Explain the difference between mutable and immutable data types with examples.\n",
        "   > Mutable: Can be changed after creation.\n",
        "Example: Lists ([1, 2, 3]), Dictionaries ({'key': 'value'}).\n",
        "Code Example:\n",
        "\n"
      ],
      "metadata": {
        "id": "Zy9kST9DmPZO"
      }
    },
    {
      "cell_type": "code",
      "source": [
        "my_list = [1, 2, 3]\n",
        "my_list[0] = 10  # List is modified to [10, 2, 3]\n"
      ],
      "metadata": {
        "id": "eIB-E9BGm6hf"
      },
      "execution_count": null,
      "outputs": []
    },
    {
      "cell_type": "markdown",
      "source": [
        "  Immutable: Cannot be changed after creation.\n",
        "Example: Tuples ((1, 2, 3)), Strings (\"Hello\").\n",
        "Code Example:\n"
      ],
      "metadata": {
        "id": "48-Qk51knJIs"
      }
    },
    {
      "cell_type": "code",
      "source": [
        "my_tuple = (1, 2, 3)\n",
        "# my_tuple[0] = 10  # Raises a TypeError\n"
      ],
      "metadata": {
        "id": "gjZcqnpCncD8"
      },
      "execution_count": null,
      "outputs": []
    },
    {
      "cell_type": "markdown",
      "source": [
        "3. What are the main differences between lists and tuples in Python?\n",
        "   > List: Mutable, slower, uses square brackets ([]).\n",
        "     Tuple: Immutable, faster, uses parentheses (()).\n"
      ],
      "metadata": {
        "id": "H63EnsvannEf"
      }
    },
    {
      "cell_type": "markdown",
      "source": [
        "4. Describe how dictionaries store data.\n",
        "  > Dictionaries store data as key-value pairs using a hashing mechanism, allowing fast retrieval by key. Example:\n"
      ],
      "metadata": {
        "id": "F2crhDzGn4XV"
      }
    },
    {
      "cell_type": "code",
      "source": [
        "my_dict = {'name': 'Alice', 'age': 25}\n"
      ],
      "metadata": {
        "id": "d5hxs1GioFEC"
      },
      "execution_count": null,
      "outputs": []
    },
    {
      "cell_type": "markdown",
      "source": [
        "5. Why might you use a set instead of a list in Python?\n",
        "  > Sets automatically remove duplicate elements and provide faster membership testing (in). Example:\n",
        "\n"
      ],
      "metadata": {
        "id": "13oxGcz3oJRk"
      }
    },
    {
      "cell_type": "code",
      "source": [
        "my_set = {1, 2, 2, 3}  # {1, 2, 3}\n"
      ],
      "metadata": {
        "id": "zYfqFPbioTKK"
      },
      "execution_count": null,
      "outputs": []
    },
    {
      "cell_type": "markdown",
      "source": [
        "6. What is a string in Python, and how is it different from a list?\n",
        "  > A string is a sequence of characters (immutable), while a list is a collection of elements (mutable).\n",
        "  Example:\n"
      ],
      "metadata": {
        "id": "6F3kVR3OoV_g"
      }
    },
    {
      "cell_type": "code",
      "source": [
        "string = \"hello\"  # Immutable\n",
        "list_ = ['h', 'e', 'l', 'l', 'o']  # Mutable\n"
      ],
      "metadata": {
        "id": "wWURUtupohY3"
      },
      "execution_count": null,
      "outputs": []
    },
    {
      "cell_type": "markdown",
      "source": [
        "7. How do tuples ensure data integrity in Python?\n",
        "  > Tuples are immutable, preventing accidental modification of data. They are ideal for storing fixed, unchangeable collections.\n"
      ],
      "metadata": {
        "id": "doxOe3-5ok2O"
      }
    },
    {
      "cell_type": "markdown",
      "source": [
        "8. What is a hash table, and how does it relate to dictionaries in Python?\n",
        "  > A hash table is a data structure that maps keys to values using a hash function. Python dictionaries are implemented using hash tables for fast key lookups.\n"
      ],
      "metadata": {
        "id": "t9CYF0XIo1RF"
      }
    },
    {
      "cell_type": "markdown",
      "source": [
        "9. Can lists contain different data types in Python?\n",
        "  > Yes. Example:\n",
        "\n"
      ],
      "metadata": {
        "id": "oU9BBX7vo7m0"
      }
    },
    {
      "cell_type": "code",
      "source": [
        "mixed_list = [1, 2.5, \"text\", True]\n"
      ],
      "metadata": {
        "id": "4WtOYyrgpR1o"
      },
      "execution_count": null,
      "outputs": []
    },
    {
      "cell_type": "markdown",
      "source": [
        "10. Explain why strings are immutable in Python.\n",
        "  > Strings are immutable to ensure data integrity, optimize memory usage (via string interning), and improve performance.\n"
      ],
      "metadata": {
        "id": "ZZ8FBLSdpV6S"
      }
    },
    {
      "cell_type": "markdown",
      "source": [
        "11. What advantages do dictionaries offer over lists for certain tasks?\n",
        "   > Dictionaries provide faster lookups, data retrieval by key, and unordered storage, making them ideal for tasks requiring mapping relationships.\n"
      ],
      "metadata": {
        "id": "laOJQG1jpghl"
      }
    },
    {
      "cell_type": "markdown",
      "source": [
        "12. Describe a scenario where using a tuple would be preferable over a list.\n",
        "   > When storing constant data that should not change, like coordinates:\n",
        "\n"
      ],
      "metadata": {
        "id": "92v-bap7ps-J"
      }
    },
    {
      "cell_type": "code",
      "source": [
        "coordinates = (10, 20)\n"
      ],
      "metadata": {
        "id": "iJCD0AR3p6Rf"
      },
      "execution_count": null,
      "outputs": []
    },
    {
      "cell_type": "markdown",
      "source": [
        "13. How do sets handle duplicate values in Python?\n",
        "   > Sets automatically remove duplicates. Example:"
      ],
      "metadata": {
        "id": "3Rwd_uoCqAQH"
      }
    },
    {
      "cell_type": "code",
      "source": [
        "my_set = {1, 1, 2, 3}  # {1, 2, 3}\n"
      ],
      "metadata": {
        "id": "dygG3vSBqIuu"
      },
      "execution_count": null,
      "outputs": []
    },
    {
      "cell_type": "markdown",
      "source": [
        "14. How does the “in” keyword work differently for lists and dictionaries\n",
        "   > Lists: Checks for membership of a value.\n",
        "     Dictionaries: Checks for membership of a key.\n",
        "     Example:"
      ],
      "metadata": {
        "id": "gsAFjHGzqLMF"
      }
    },
    {
      "cell_type": "code",
      "source": [
        "5 in [1, 2, 3, 5]  # True\n",
        "'key' in {'key': 'value'}  # True\n"
      ],
      "metadata": {
        "id": "2AsOWWelqZ2Q"
      },
      "execution_count": null,
      "outputs": []
    },
    {
      "cell_type": "markdown",
      "source": [
        "15. Can you modify the elements of a tuple? Explain why or why not.\n",
        "   > No, you cannot modify the elements of a tuple because tuples are immutable in Python. Once a tuple is created, its elements cannot be changed, added, or removed. This immutability ensures data integrity and makes tuples hashable, which allows them to be used as keys in dictionaries or elements in sets. Example\n",
        "\n"
      ],
      "metadata": {
        "id": "VJ6aby_hrE-f"
      }
    },
    {
      "cell_type": "code",
      "source": [
        "my_tuple = (1, 2, 3)\n",
        "\n",
        "# Attempting to modify a tuple will raise an error\n",
        "# my_tuple[0] = 10  # Uncommenting this will raise a TypeError: 'tuple' object does not support item assignment\n",
        "\n",
        "print(my_tuple)  # Output: (1, 2, 3)\n"
      ],
      "metadata": {
        "id": "yy8RUP0frKLI"
      },
      "execution_count": null,
      "outputs": []
    },
    {
      "cell_type": "markdown",
      "source": [
        "     However, if a tuple contains mutable elements (like a list), those elements can be modified:"
      ],
      "metadata": {
        "id": "iT48m8U7rhaZ"
      }
    },
    {
      "cell_type": "code",
      "source": [
        "nested_tuple = (1, [2, 3], 4)\n",
        "nested_tuple[1][0] = 10  # Modifying the list inside the tuple\n",
        "print(nested_tuple)  # Output: (1, [10, 3], 4)\n"
      ],
      "metadata": {
        "id": "NKPM1zWPrlyu"
      },
      "execution_count": null,
      "outputs": []
    },
    {
      "cell_type": "markdown",
      "source": [
        "     This shows that while the tuple structure itself is immutable, mutable objects inside a tuple can be altered.\n",
        "\n",
        "\n",
        "\n",
        "\n",
        "\n",
        "\n",
        "\n"
      ],
      "metadata": {
        "id": "RNvQL2gLrvbn"
      }
    },
    {
      "cell_type": "markdown",
      "source": [
        "16. What is a nested dictionary, and give an example of its use case?\n",
        "  > A dictionary inside another dictionary, useful for hierarchical data:\n"
      ],
      "metadata": {
        "id": "OhKUyjyNr0D1"
      }
    },
    {
      "cell_type": "code",
      "source": [
        "data = {'user': {'name': 'Alice', 'age': 25}}\n"
      ],
      "metadata": {
        "id": "eMQbBqSesBVq"
      },
      "execution_count": 1,
      "outputs": []
    },
    {
      "cell_type": "markdown",
      "source": [
        "17. Describe the time complexity of accessing elements in a dictionary.\n",
        "   > The time complexity of accessing an element in a dictionary is O(1) on average. This is because dictionaries in Python use a hash table internally, allowing constant-time access to elements by their keys.\n",
        "\n"
      ],
      "metadata": {
        "id": "eT3UL_YwsKh9"
      }
    },
    {
      "cell_type": "markdown",
      "source": [
        "18. In what situations are lists preferred over dictionaries?\n",
        "  > Lists are preferred over dictionaries in the following situations:\n",
        "\n",
        "    > When the order of elements is important, as lists maintain the sequence of elements by their indices.\n",
        "    \n",
        "    > When there is no need for key-value pairs, and simple data storage is sufficient.\n",
        "    \n",
        "    > When working with sequential data where operations like sorting, slicing, or iteration are required.\n",
        "   \n",
        "   > When duplicate values are allowed, as dictionaries do not permit duplicate keys.\n",
        "   \n",
        "   > When memory efficiency is a concern, as lists use less memory compared to dictionaries.\n",
        "   \n",
        "   > When random access by an element's position (index) is needed, which lists provide efficiently."
      ],
      "metadata": {
        "id": "DqBLGokOskr0"
      }
    },
    {
      "cell_type": "markdown",
      "source": [
        "19. Why are dictionaries considered unordered, and how does that affect data retrieval?\n",
        "  > Dictionaries are considered unordered because they store key-value pairs based on a hash table rather than maintaining any inherent order. The keys are hashed to determine their location in memory, which means their physical arrangement in the dictionary does not correspond to the order in which they were added.\n",
        "\n",
        "Effect on Data Retrieval:\n",
        "   > Access by Key Only: Data can only be retrieved using keys, not by positional indexing like in a list.\n",
        "   \n",
        "   > No Positional Access: Since dictionaries are unordered, you cannot access elements in a specific sequence or rely on the order in which items were inserted (prior to Python 3.7).\n",
        "   \n",
        "   > Efficient Lookups: Despite being unordered, dictionaries offer very fast lookups for keys due to their hash table implementation, with an average time complexity of O(1).\n",
        "   \n",
        "   Note: Starting with Python 3.7, dictionaries maintain insertion order as an implementation detail, but this does not change their conceptual definition as unordered collections.\n",
        "\n",
        "\n",
        "\n",
        "\n",
        "\n",
        "\n",
        "\n"
      ],
      "metadata": {
        "id": "nI89VCkatmCi"
      }
    },
    {
      "cell_type": "markdown",
      "source": [
        "20. Explain the difference between a list and a dictionary in terms of data retrieval.\n",
        "   > Lists retrieve data by index, while dictionaries retrieve data by key.\n"
      ],
      "metadata": {
        "id": "jXM-Rh5OufEX"
      }
    },
    {
      "cell_type": "markdown",
      "source": [
        "# **PRACTICAL QUESTIONS **\n",
        "\n",
        "1. Create a string with your name and print it.\n"
      ],
      "metadata": {
        "id": "eBFGhGVZvKYG"
      }
    },
    {
      "cell_type": "code",
      "source": [
        "name = \"DEV\"\n",
        "print(name)\n"
      ],
      "metadata": {
        "colab": {
          "base_uri": "https://localhost:8080/"
        },
        "id": "lnp__enIvhk0",
        "outputId": "753321ad-71d4-4b78-e4e7-316a29c46f18"
      },
      "execution_count": 3,
      "outputs": [
        {
          "output_type": "stream",
          "name": "stdout",
          "text": [
            "DEV\n"
          ]
        }
      ]
    },
    {
      "cell_type": "markdown",
      "source": [
        "2. Find the length of the string \"Hello World\".\n"
      ],
      "metadata": {
        "id": "sngOhp3YvpbD"
      }
    },
    {
      "cell_type": "code",
      "source": [
        "print(len(\"Hello World\"))\n"
      ],
      "metadata": {
        "colab": {
          "base_uri": "https://localhost:8080/"
        },
        "id": "RzHeIW5BvvDH",
        "outputId": "e0b70c11-0f95-4f65-ed48-de7ab72719b6"
      },
      "execution_count": 4,
      "outputs": [
        {
          "output_type": "stream",
          "name": "stdout",
          "text": [
            "11\n"
          ]
        }
      ]
    },
    {
      "cell_type": "markdown",
      "source": [
        "3. Slice the first 3 characters from \"Python Programming\".\n"
      ],
      "metadata": {
        "id": "VOqYNVSav1JG"
      }
    },
    {
      "cell_type": "code",
      "source": [
        "print(\"Python Programming\"[:3])\n"
      ],
      "metadata": {
        "colab": {
          "base_uri": "https://localhost:8080/"
        },
        "id": "mm-c9DqEv7qz",
        "outputId": "7bc7960f-893c-419c-dc04-87b77249e511"
      },
      "execution_count": 5,
      "outputs": [
        {
          "output_type": "stream",
          "name": "stdout",
          "text": [
            "Pyt\n"
          ]
        }
      ]
    },
    {
      "cell_type": "markdown",
      "source": [
        "4. Convert \"hello\" to uppercase."
      ],
      "metadata": {
        "id": "2iR0NLbTwCXS"
      }
    },
    {
      "cell_type": "code",
      "source": [
        "print(\"hello\".upper())\n"
      ],
      "metadata": {
        "colab": {
          "base_uri": "https://localhost:8080/"
        },
        "id": "rJwIHTWTwLOQ",
        "outputId": "054546be-11cd-4022-884b-9be39d6408df"
      },
      "execution_count": 6,
      "outputs": [
        {
          "output_type": "stream",
          "name": "stdout",
          "text": [
            "HELLO\n"
          ]
        }
      ]
    },
    {
      "cell_type": "markdown",
      "source": [
        "5. Replace \"apple\" with \"orange\" in \"I like apple\"."
      ],
      "metadata": {
        "id": "FU9SPNKhwP9t"
      }
    },
    {
      "cell_type": "code",
      "source": [
        "print(\"I like apple\".replace(\"apple\", \"orange\"))\n"
      ],
      "metadata": {
        "colab": {
          "base_uri": "https://localhost:8080/"
        },
        "id": "yiFBmonFwVlF",
        "outputId": "123fad15-d03e-4c16-bd9d-11a43bd5d18f"
      },
      "execution_count": 7,
      "outputs": [
        {
          "output_type": "stream",
          "name": "stdout",
          "text": [
            "I like orange\n"
          ]
        }
      ]
    },
    {
      "cell_type": "markdown",
      "source": [
        "6. Create a list with numbers 1 to 5 and print it."
      ],
      "metadata": {
        "id": "UvcjLrmFwaXc"
      }
    },
    {
      "cell_type": "code",
      "source": [
        "my_list = [1, 2, 3, 4, 5]\n",
        "print(my_list)\n"
      ],
      "metadata": {
        "colab": {
          "base_uri": "https://localhost:8080/"
        },
        "id": "zHm67Zpbwhmr",
        "outputId": "eb952908-1e2f-4451-c937-56b6ae877dfc"
      },
      "execution_count": 8,
      "outputs": [
        {
          "output_type": "stream",
          "name": "stdout",
          "text": [
            "[1, 2, 3, 4, 5]\n"
          ]
        }
      ]
    },
    {
      "cell_type": "markdown",
      "source": [
        "7. Append 10 to [1, 2, 3, 4]."
      ],
      "metadata": {
        "id": "9QZXu7lUwl1y"
      }
    },
    {
      "cell_type": "code",
      "source": [
        "my_list = [1, 2, 3, 4]\n",
        "my_list.append(10)\n",
        "print(my_list)\n"
      ],
      "metadata": {
        "colab": {
          "base_uri": "https://localhost:8080/"
        },
        "id": "LEmTxWOPwqmh",
        "outputId": "b521a648-62f4-4e8f-9255-915fa4c7cbc0"
      },
      "execution_count": 9,
      "outputs": [
        {
          "output_type": "stream",
          "name": "stdout",
          "text": [
            "[1, 2, 3, 4, 10]\n"
          ]
        }
      ]
    },
    {
      "cell_type": "markdown",
      "source": [
        "8. Remove 3 from [1, 2, 3, 4, 5]."
      ],
      "metadata": {
        "id": "95tQYZNGw0b7"
      }
    },
    {
      "cell_type": "code",
      "source": [
        "my_list = [1, 2, 3, 4, 5]\n",
        "my_list.remove(3)\n",
        "print(my_list)\n"
      ],
      "metadata": {
        "colab": {
          "base_uri": "https://localhost:8080/"
        },
        "id": "4uvCRrzZw4BN",
        "outputId": "d023c7b8-3754-49ab-dab4-d62e6c3137d2"
      },
      "execution_count": 10,
      "outputs": [
        {
          "output_type": "stream",
          "name": "stdout",
          "text": [
            "[1, 2, 4, 5]\n"
          ]
        }
      ]
    },
    {
      "cell_type": "markdown",
      "source": [
        "9. Access the second element in ['a', 'b', 'c', 'd']."
      ],
      "metadata": {
        "id": "tVTj_-7ww-Pk"
      }
    },
    {
      "cell_type": "code",
      "source": [
        "my_list = ['a', 'b', 'c', 'd']\n",
        "print(my_list[1])\n"
      ],
      "metadata": {
        "colab": {
          "base_uri": "https://localhost:8080/"
        },
        "id": "oJlj1_wgxDvM",
        "outputId": "538d5882-b5bb-4f02-d1e8-60a144e2f089"
      },
      "execution_count": 11,
      "outputs": [
        {
          "output_type": "stream",
          "name": "stdout",
          "text": [
            "b\n"
          ]
        }
      ]
    },
    {
      "cell_type": "markdown",
      "source": [
        "10. Reverse [10, 20, 30, 40, 50]."
      ],
      "metadata": {
        "id": "LLyUT3DXxIfF"
      }
    },
    {
      "cell_type": "code",
      "source": [
        "my_list = [10, 20, 30, 40, 50]\n",
        "print(my_list[::-1])\n"
      ],
      "metadata": {
        "colab": {
          "base_uri": "https://localhost:8080/"
        },
        "id": "jnKGQaAfxMzp",
        "outputId": "4b91e7c0-de0d-4b24-c26d-2f48116b76ca"
      },
      "execution_count": 12,
      "outputs": [
        {
          "output_type": "stream",
          "name": "stdout",
          "text": [
            "[50, 40, 30, 20, 10]\n"
          ]
        }
      ]
    },
    {
      "cell_type": "markdown",
      "source": [
        "11. Create a tuple with the elements 10, 20, 30 and print it."
      ],
      "metadata": {
        "id": "yJxfe_wExgDY"
      }
    },
    {
      "cell_type": "code",
      "source": [
        "my_tuple = (10, 20, 30)\n",
        "print(my_tuple)\n"
      ],
      "metadata": {
        "colab": {
          "base_uri": "https://localhost:8080/"
        },
        "id": "DIp65hLwyIwa",
        "outputId": "f9aba799-dbbc-4534-8922-26a3b6a5ec71"
      },
      "execution_count": 13,
      "outputs": [
        {
          "output_type": "stream",
          "name": "stdout",
          "text": [
            "(10, 20, 30)\n"
          ]
        }
      ]
    },
    {
      "cell_type": "markdown",
      "source": [
        "12. Access the first element of the tuple ('apple', 'banana', 'cherry')."
      ],
      "metadata": {
        "id": "jsgfhz25yM_Y"
      }
    },
    {
      "cell_type": "code",
      "source": [
        "my_tuple = ('apple', 'banana', 'cherry')\n",
        "print(my_tuple[0])\n"
      ],
      "metadata": {
        "colab": {
          "base_uri": "https://localhost:8080/"
        },
        "id": "hwOtnRs1yRO-",
        "outputId": "7a40dfba-b0c4-4338-dd80-90647a8a08ec"
      },
      "execution_count": 14,
      "outputs": [
        {
          "output_type": "stream",
          "name": "stdout",
          "text": [
            "apple\n"
          ]
        }
      ]
    },
    {
      "cell_type": "markdown",
      "source": [
        "13. Count how many times the number 2 appears in the tuple (1, 2, 3, 2, 4, 2)."
      ],
      "metadata": {
        "id": "td_6RC2EyWsy"
      }
    },
    {
      "cell_type": "code",
      "source": [
        "my_tuple = (1, 2, 3, 2, 4, 2)\n",
        "print(my_tuple.count(2))\n"
      ],
      "metadata": {
        "colab": {
          "base_uri": "https://localhost:8080/"
        },
        "id": "SvZlYoYNyb9n",
        "outputId": "824e6218-dcc8-478f-a5ef-7c2c13d7dae6"
      },
      "execution_count": 15,
      "outputs": [
        {
          "output_type": "stream",
          "name": "stdout",
          "text": [
            "3\n"
          ]
        }
      ]
    },
    {
      "cell_type": "markdown",
      "source": [
        "14. Find the index of the element \"cat\" in the tuple ('dog', 'cat', 'rabbit')."
      ],
      "metadata": {
        "id": "AZR79akcyhG9"
      }
    },
    {
      "cell_type": "code",
      "source": [
        "my_tuple = ('dog', 'cat', 'rabbit')\n",
        "print(my_tuple.index('cat'))\n"
      ],
      "metadata": {
        "colab": {
          "base_uri": "https://localhost:8080/"
        },
        "id": "XEgr8u2Iyk4o",
        "outputId": "9775b871-4a12-4ac1-ad54-67932095e10e"
      },
      "execution_count": 16,
      "outputs": [
        {
          "output_type": "stream",
          "name": "stdout",
          "text": [
            "1\n"
          ]
        }
      ]
    },
    {
      "cell_type": "markdown",
      "source": [
        "15. Check if the element \"banana\" is in the tuple ('apple', 'orange', 'banana')."
      ],
      "metadata": {
        "id": "7md8SmbJypr3"
      }
    },
    {
      "cell_type": "code",
      "source": [
        "my_tuple = ('apple', 'orange', 'banana')\n",
        "print('banana' in my_tuple)\n"
      ],
      "metadata": {
        "colab": {
          "base_uri": "https://localhost:8080/"
        },
        "id": "vr7bFrOcyu0s",
        "outputId": "82565244-0bc9-45d5-d06b-c16d57c66d6c"
      },
      "execution_count": 17,
      "outputs": [
        {
          "output_type": "stream",
          "name": "stdout",
          "text": [
            "True\n"
          ]
        }
      ]
    },
    {
      "cell_type": "markdown",
      "source": [
        "16. Create a set with the elements 1, 2, 3, 4, 5 and print it."
      ],
      "metadata": {
        "id": "pe_rGUDpyzn5"
      }
    },
    {
      "cell_type": "code",
      "source": [
        "my_set = {1, 2, 3, 4, 5}\n",
        "print(my_set)\n"
      ],
      "metadata": {
        "colab": {
          "base_uri": "https://localhost:8080/"
        },
        "id": "g9-h9ZxIy4ol",
        "outputId": "977f15c4-7980-4c8f-c606-21de5010509e"
      },
      "execution_count": 18,
      "outputs": [
        {
          "output_type": "stream",
          "name": "stdout",
          "text": [
            "{1, 2, 3, 4, 5}\n"
          ]
        }
      ]
    },
    {
      "cell_type": "markdown",
      "source": [
        "17. Add the element 6 to the set {1, 2, 3, 4}."
      ],
      "metadata": {
        "id": "jUx7XKG8y-qf"
      }
    },
    {
      "cell_type": "code",
      "source": [
        "my_set = {1, 2, 3, 4}\n",
        "my_set.add(6)\n",
        "print(my_set)\n"
      ],
      "metadata": {
        "colab": {
          "base_uri": "https://localhost:8080/"
        },
        "id": "R1ifn68OzA7O",
        "outputId": "8ebb8d0b-3564-465e-b2b2-89fed6d4c34a"
      },
      "execution_count": 19,
      "outputs": [
        {
          "output_type": "stream",
          "name": "stdout",
          "text": [
            "{1, 2, 3, 4, 6}\n"
          ]
        }
      ]
    },
    {
      "cell_type": "markdown",
      "source": [
        "18. Create a tuple with the elements 10, 20, 30 and print it."
      ],
      "metadata": {
        "id": "uQoDfbOgzGHc"
      }
    },
    {
      "cell_type": "code",
      "source": [
        "my_tuple = (10, 20, 30)\n",
        "print(my_tuple)\n"
      ],
      "metadata": {
        "colab": {
          "base_uri": "https://localhost:8080/"
        },
        "id": "mddFaDDozMo3",
        "outputId": "bd75d32e-d70b-4c0b-ae55-261d8dd06335"
      },
      "execution_count": 20,
      "outputs": [
        {
          "output_type": "stream",
          "name": "stdout",
          "text": [
            "(10, 20, 30)\n"
          ]
        }
      ]
    },
    {
      "cell_type": "markdown",
      "source": [
        "19. Access the first element of the tuple ('apple', 'banana', 'cherry')."
      ],
      "metadata": {
        "id": "KXejtrGqzSGk"
      }
    },
    {
      "cell_type": "code",
      "source": [
        "my_tuple = ('apple', 'banana', 'cherry')\n",
        "print(my_tuple[0])\n"
      ],
      "metadata": {
        "colab": {
          "base_uri": "https://localhost:8080/"
        },
        "id": "NH3sVPOizXzb",
        "outputId": "03d00aab-a67e-40fa-94ca-a19f17443fc2"
      },
      "execution_count": 21,
      "outputs": [
        {
          "output_type": "stream",
          "name": "stdout",
          "text": [
            "apple\n"
          ]
        }
      ]
    },
    {
      "cell_type": "markdown",
      "source": [
        "20. Count how many times the number 2 appears in the tuple (1, 2, 3, 2, 4, 2)"
      ],
      "metadata": {
        "id": "W0K_JE11za86"
      }
    },
    {
      "cell_type": "code",
      "source": [
        "my_tuple = (1, 2, 3, 2, 4, 2)\n",
        "print(my_tuple.count(2))\n"
      ],
      "metadata": {
        "colab": {
          "base_uri": "https://localhost:8080/"
        },
        "id": "9VQS_5sgzf9X",
        "outputId": "6e2f9208-2f4a-480b-a5a8-54d7c8f7b2cd"
      },
      "execution_count": 22,
      "outputs": [
        {
          "output_type": "stream",
          "name": "stdout",
          "text": [
            "3\n"
          ]
        }
      ]
    },
    {
      "cell_type": "markdown",
      "source": [
        "21. Find the index of the element \"cat\" in the tuple ('dog', 'cat', 'rabbit')."
      ],
      "metadata": {
        "id": "vE5Qu5T2zoEk"
      }
    },
    {
      "cell_type": "code",
      "source": [
        "my_tuple = ('dog', 'cat', 'rabbit')\n",
        "print(my_tuple.index('cat'))\n"
      ],
      "metadata": {
        "colab": {
          "base_uri": "https://localhost:8080/"
        },
        "id": "jeBsV_Upzsvk",
        "outputId": "ba6c489f-568d-4340-d511-1e9b5c9297cf"
      },
      "execution_count": 23,
      "outputs": [
        {
          "output_type": "stream",
          "name": "stdout",
          "text": [
            "1\n"
          ]
        }
      ]
    },
    {
      "cell_type": "markdown",
      "source": [
        "22. Check if the element \"banana\" is in the tuple ('apple', 'orange', 'banana')."
      ],
      "metadata": {
        "id": "yJhjkMaZzwXC"
      }
    },
    {
      "cell_type": "code",
      "source": [
        "my_tuple = ('apple', 'orange', 'banana')\n",
        "print('banana' in my_tuple)\n"
      ],
      "metadata": {
        "colab": {
          "base_uri": "https://localhost:8080/"
        },
        "id": "f95XesEnz3Tb",
        "outputId": "e51e7ab0-2ea6-4b3d-c0d2-6448f04881ae"
      },
      "execution_count": 24,
      "outputs": [
        {
          "output_type": "stream",
          "name": "stdout",
          "text": [
            "True\n"
          ]
        }
      ]
    },
    {
      "cell_type": "markdown",
      "source": [
        "23. Create a set with the elements 1, 2, 3, 4, 5 and print it."
      ],
      "metadata": {
        "id": "crgT2C_az78j"
      }
    },
    {
      "cell_type": "code",
      "source": [
        "my_set = {1, 2, 3, 4, 5}\n",
        "print(my_set)\n"
      ],
      "metadata": {
        "colab": {
          "base_uri": "https://localhost:8080/"
        },
        "id": "jgq3jytI0AgZ",
        "outputId": "04add0ed-67d4-4734-910e-7389a2207c96"
      },
      "execution_count": 25,
      "outputs": [
        {
          "output_type": "stream",
          "name": "stdout",
          "text": [
            "{1, 2, 3, 4, 5}\n"
          ]
        }
      ]
    },
    {
      "cell_type": "markdown",
      "source": [
        "24. Add the element 6 to the set {1, 2, 3, 4}."
      ],
      "metadata": {
        "id": "T11TuJ720F5n"
      }
    },
    {
      "cell_type": "code",
      "source": [
        "my_set = {1, 2, 3, 4}\n",
        "my_set.add(6)\n",
        "print(my_set)\n"
      ],
      "metadata": {
        "colab": {
          "base_uri": "https://localhost:8080/"
        },
        "id": "pPmva6LQ0Jxf",
        "outputId": "283e9319-279a-4dbe-8b1d-2cdb704be8e9"
      },
      "execution_count": 26,
      "outputs": [
        {
          "output_type": "stream",
          "name": "stdout",
          "text": [
            "{1, 2, 3, 4, 6}\n"
          ]
        }
      ]
    }
  ]
}